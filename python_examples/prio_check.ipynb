{
 "cells": [
  {
   "cell_type": "markdown",
   "metadata": {},
   "source": [
    "Copyright (c) 2020 Apple Inc.  \n",
    "SPDX-License-Identifier: MPL-2.0"
   ]
  },
  {
   "cell_type": "code",
   "execution_count": null,
   "metadata": {},
   "outputs": [],
   "source": [
    "import os, sys, boto3, json\n",
    "from cu_vec import *\n",
    "from client_io import *\n",
    "from crypto_io import *\n",
    "from server_io import *\n",
    "from client import *\n",
    "from ingestor import *\n",
    "from server import *\n",
    "from credentials import *"
   ]
  },
  {
   "cell_type": "markdown",
   "metadata": {},
   "source": [
    "Load the bindings for Rust Prio implementation"
   ]
  },
  {
   "cell_type": "code",
   "execution_count": null,
   "metadata": {},
   "outputs": [],
   "source": [
    "prefix = {'win32': ''}.get(sys.platform, 'lib')\n",
    "extension = {'darwin': '.dylib', 'win32': '.dll'}.get(sys.platform, '.so')\n",
    "lib_name = \"../target/debug/\" + prefix + \"libprio_rs\" + extension\n",
    "lib = ctypes.cdll.LoadLibrary(lib_name)"
   ]
  },
  {
   "cell_type": "code",
   "execution_count": null,
   "metadata": {},
   "outputs": [],
   "source": [
    "setup_cu_vectors(lib)\n",
    "setup_client_io(lib)\n",
    "setup_crypto_io(lib)\n",
    "setup_server_io(lib)"
   ]
  },
  {
   "cell_type": "markdown",
   "metadata": {},
   "source": [
    "Create some values for the simulation"
   ]
  },
  {
   "cell_type": "code",
   "execution_count": null,
   "metadata": {},
   "outputs": [],
   "source": [
    "dimension = 10\n",
    "n_clients = 10\n",
    "aggregate_name = \"test_counts\"\n",
    "s3_prefix = \"test_counts/\"\n",
    "\n",
    "server1_s3_session = boto3.Session(\n",
    "    region_name=server1_region,\n",
    "    aws_access_key_id=server1_access_key_id,\n",
    "    aws_secret_access_key=server1_secret_access_key\n",
    ")\n",
    "\n",
    "server2_s3_session = boto3.Session(\n",
    "    region_name=server2_region,\n",
    "    aws_access_key_id=server2_access_key_id,\n",
    "    aws_secret_access_key=server2_secret_access_key\n",
    ")\n",
    "\n",
    "keys = get_random_key_pairs()\n",
    "\n",
    "private_key1 = keys[\"private_key1\"]\n",
    "public_key1 = keys[\"public_key1\"]\n",
    "private_key2 = keys[\"private_key2\"]\n",
    "public_key2 = keys[\"public_key2\"]"
   ]
  },
  {
   "cell_type": "markdown",
   "metadata": {},
   "source": [
    "Simulate clients sending messages and keep track of the true aggregate"
   ]
  },
  {
   "cell_type": "code",
   "execution_count": null,
   "metadata": {
    "scrolled": false
   },
   "outputs": [],
   "source": [
    "global_truth = []\n",
    "client_simulation = []\n",
    "\n",
    "with ClientSimulator(lib = lib,\n",
    "                     dimension = dimension,\n",
    "                     aggregate_name = aggregate_name,\n",
    "                     public_key1 = public_key1,         \n",
    "                     public_key2 = public_key2,\n",
    "                     seed=9\n",
    "                    ) as client_simulator:\n",
    "    client_simulator.simulate_n(n_clients)\n",
    "    (client_simulation, global_truth) = client_simulator.get_simulation()\n",
    "print(global_truth)"
   ]
  },
  {
   "cell_type": "markdown",
   "metadata": {},
   "source": [
    "Split the message shares across two s3 buckets"
   ]
  },
  {
   "cell_type": "code",
   "execution_count": null,
   "metadata": {},
   "outputs": [],
   "source": [
    "with Ingestor(lib=lib,\n",
    "              dimension = dimension,\n",
    "              s3_session1 = server1_s3_session,\n",
    "              s3_session2 = server2_s3_session\n",
    "             ) as ingestor:\n",
    "    ingestor.read_shares(client_simulation)\n",
    "    ingestor.s3_put_shares(server1_bucket, server2_bucket, s3_prefix)"
   ]
  },
  {
   "cell_type": "markdown",
   "metadata": {},
   "source": [
    "Server 1 creates its verification messages"
   ]
  },
  {
   "cell_type": "code",
   "execution_count": null,
   "metadata": {},
   "outputs": [],
   "source": [
    "with Server(lib=lib,\n",
    "            dimension=dimension, \n",
    "            is_first_server=True, \n",
    "            private_key=private_key1, \n",
    "            public_key1=public_key1, \n",
    "            public_key2=public_key2,\n",
    "            s3_session1 = server1_s3_session,\n",
    "            s3_session2 = server2_s3_session) as server1:\n",
    "    server1_input_list = server1.s3_get_shares(server1_bucket,s3_prefix)\n",
    "    server1.generate_verification_messages(server1_input_list)\n",
    "    server1.s3_put_verification_messages(server1_bucket,server2_bucket,s3_prefix)"
   ]
  },
  {
   "cell_type": "markdown",
   "metadata": {},
   "source": [
    "Server 2 creates its verification messages"
   ]
  },
  {
   "cell_type": "code",
   "execution_count": null,
   "metadata": {},
   "outputs": [],
   "source": [
    "with Server(lib=lib,\n",
    "            dimension=dimension, \n",
    "            is_first_server=False, \n",
    "            private_key=private_key2, \n",
    "            public_key1=public_key1, \n",
    "            public_key2=public_key2,\n",
    "            s3_session1 = server1_s3_session,\n",
    "            s3_session2 = server2_s3_session) as server2:\n",
    "    server2_input_list = server2.s3_get_shares(server2_bucket,s3_prefix)\n",
    "    server2.generate_verification_messages(server2_input_list)\n",
    "    server2.s3_put_verification_messages(server1_bucket,server2_bucket,s3_prefix)"
   ]
  },
  {
   "cell_type": "markdown",
   "metadata": {},
   "source": [
    "Server 1 verifies that shares are valid and aggregates them"
   ]
  },
  {
   "cell_type": "code",
   "execution_count": null,
   "metadata": {},
   "outputs": [],
   "source": [
    "with Server(lib=lib,\n",
    "            dimension=dimension, \n",
    "            is_first_server=True, \n",
    "            private_key=private_key1, \n",
    "            public_key1=public_key1, \n",
    "            public_key2=public_key2,\n",
    "            s3_session1 = server1_s3_session,\n",
    "            s3_session2 = server2_s3_session) as server1:\n",
    "    server1_input_list = server1.s3_get_shares(server1_bucket,s3_prefix)\n",
    "    (server1_verification_messages_for_server1,server2_verification_messages_for_server1) = server1.s3_get_verification_messages(server1_bucket,s3_prefix)\n",
    "    v1 = server1.read_verification_messages(server1_verification_messages_for_server1)\n",
    "    v2 = server1.read_verification_messages(server2_verification_messages_for_server1)\n",
    "    server1.aggregate(server1_input_list,v1,v2)\n",
    "    server1.s3_put_valid_shares(server1_bucket,server2_bucket,s3_prefix)\n",
    "    server1.s3_put_total_shares(server1_bucket,server2_bucket,s3_prefix)"
   ]
  },
  {
   "cell_type": "markdown",
   "metadata": {},
   "source": [
    "Server 2 verifies that shares are valid and aggregates them"
   ]
  },
  {
   "cell_type": "code",
   "execution_count": null,
   "metadata": {},
   "outputs": [],
   "source": [
    "with Server(lib=lib,\n",
    "            dimension=dimension, \n",
    "            is_first_server=False, \n",
    "            private_key=private_key2, \n",
    "            public_key1=public_key1, \n",
    "            public_key2=public_key2,\n",
    "            s3_session1 = server1_s3_session,\n",
    "            s3_session2 = server2_s3_session) as server2:\n",
    "    server2_input_list = server2.s3_get_shares(server2_bucket,s3_prefix)\n",
    "    (server1_verification_messages_for_server2,server2_verification_messages_for_server2) = server2.s3_get_verification_messages(server2_bucket,s3_prefix)\n",
    "    v1 = server2.read_verification_messages(server1_verification_messages_for_server2)\n",
    "    v2 = server2.read_verification_messages(server2_verification_messages_for_server2)\n",
    "    server2.aggregate(server2_input_list,v1,v2)\n",
    "    server2.s3_put_valid_shares(server1_bucket,server2_bucket,s3_prefix)\n",
    "    server2.s3_put_total_shares(server1_bucket,server2_bucket,s3_prefix)\n",
    "    server2.s3_cleanup(server2_bucket,s3_prefix)"
   ]
  },
  {
   "cell_type": "markdown",
   "metadata": {},
   "source": [
    "Server 1 combines both aggregates to find the total"
   ]
  },
  {
   "cell_type": "code",
   "execution_count": null,
   "metadata": {},
   "outputs": [],
   "source": [
    "total_counts = []\n",
    "with Server(lib=lib,\n",
    "            dimension=dimension, \n",
    "            is_first_server=True, \n",
    "            private_key=private_key1, \n",
    "            public_key1=public_key1, \n",
    "            public_key2=public_key2,\n",
    "            s3_session1 = server1_s3_session,\n",
    "            s3_session2 = server2_s3_session) as server1:\n",
    "    (server1_total_shares_for_server1,server2_total_shares_for_server1) = server1.s3_get_total_shares(server1_bucket,s3_prefix)\n",
    "    total_counts = server1.reconstruct_shares(server1_total_shares_for_server1,server2_total_shares_for_server1)\n",
    "    server1.s3_cleanup(server1_bucket,s3_prefix)"
   ]
  },
  {
   "cell_type": "markdown",
   "metadata": {},
   "source": [
    "Confirm that the reconstructed count matches the true count"
   ]
  },
  {
   "cell_type": "code",
   "execution_count": null,
   "metadata": {},
   "outputs": [],
   "source": [
    "list(total_counts)"
   ]
  },
  {
   "cell_type": "code",
   "execution_count": null,
   "metadata": {},
   "outputs": [],
   "source": [
    "for (prio_count,true_count) in zip(total_counts,global_truth):\n",
    "    assert(prio_count == true_count)"
   ]
  },
  {
   "cell_type": "markdown",
   "metadata": {},
   "source": [
    "Plot the reconstructed counts"
   ]
  },
  {
   "cell_type": "code",
   "execution_count": null,
   "metadata": {},
   "outputs": [],
   "source": [
    "%matplotlib notebook\n",
    "import matplotlib.pyplot as plt\n",
    "\n",
    "labels = ['bin '+str(i+1) for i in range(len(total_counts))]\n",
    "\n",
    "fig, ax = plt.subplots()\n",
    "\n",
    "ax.bar(labels, total_counts, 0.8)\n",
    "\n",
    "ax.set_ylabel('Counts')\n",
    "ax.set_title('Counts Reconstructed with Prio')\n",
    "\n",
    "plt.show()\n"
   ]
  }
 ],
 "metadata": {
  "kernelspec": {
   "display_name": "Python 3",
   "language": "python",
   "name": "python3"
  },
  "language_info": {
   "codemirror_mode": {
    "name": "ipython",
    "version": 3
   },
   "file_extension": ".py",
   "mimetype": "text/x-python",
   "name": "python",
   "nbconvert_exporter": "python",
   "pygments_lexer": "ipython3",
   "version": "3.7.7"
  }
 },
 "nbformat": 4,
 "nbformat_minor": 2
}
